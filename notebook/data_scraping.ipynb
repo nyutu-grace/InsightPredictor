{
 "cells": [
  {
   "cell_type": "code",
   "execution_count": 1,
   "metadata": {},
   "outputs": [],
   "source": [
    "from bs4 import BeautifulSoup"
   ]
  },
  {
   "cell_type": "code",
   "execution_count": 2,
   "metadata": {},
   "outputs": [],
   "source": [
    "import requests\n",
    "import csv"
   ]
  },
  {
   "cell_type": "code",
   "execution_count": 3,
   "metadata": {},
   "outputs": [],
   "source": [
    "url = 'https://www.airlinequality.com/airline-reviews/british-airways'"
   ]
  },
  {
   "cell_type": "code",
   "execution_count": 4,
   "metadata": {},
   "outputs": [],
   "source": [
    "response = requests.get(url)"
   ]
  },
  {
   "cell_type": "code",
   "execution_count": 5,
   "metadata": {},
   "outputs": [],
   "source": [
    "soup = BeautifulSoup(response.text, 'html.parser')"
   ]
  },
  {
   "cell_type": "code",
   "execution_count": 6,
   "metadata": {},
   "outputs": [],
   "source": [
    "import os"
   ]
  },
  {
   "cell_type": "code",
   "execution_count": 7,
   "metadata": {},
   "outputs": [],
   "source": [
    "reviews = []\n",
    "\n",
    "review_articles = soup.find_all('article', class_='comp_media-review-rated list-item media position-content review-900630')\n",
    "    \n",
    "for article in review_articles:\n",
    "    # Extracting review details\n",
    "    title = article.find('h2', class_='text_header').text.strip()\n",
    "    name = article.find('span', itemprop='name').text.strip()\n",
    "    date = article.find('time', itemprop='datePublished').text.strip()\n",
    "    review_body = article.find('div', class_='text_content ', itemprop='reviewBody').text.strip()\n",
    "    \n",
    "    # Extract rating\n",
    "    rating = article.find('span', itemprop='ratingValue').text.strip()\n",
    "\n",
    "    # Extracting additional details (Type of Traveller, Seat Type, etc.)\n",
    "    table = article.find('table', class_='review-ratings')\n",
    "    rows = table.find_all('tr')\n",
    "    \n",
    "    type_of_traveller = rows[0].find_all('td', class_='review-value')[0].text.strip()\n",
    "    seat_type = rows[0].find_all('td', class_='review-value')[1].text.strip()\n",
    "    \n",
    "    # Extract the star ratings\n",
    "    stars = table.find('td', class_='review-rating-stars').find_all('span', class_='star fill')\n",
    "    star_rating = len(stars)  # Count the number of filled stars\n",
    "    \n",
    "    # Append the extracted data to reviews list\n",
    "    reviews.append({\n",
    "        'title': title,\n",
    "        'name': name,\n",
    "        'date': date,\n",
    "        'review_body': review_body,\n",
    "        'rating': rating,\n",
    "        'type_of_traveller': type_of_traveller,\n",
    "        'seat_type': seat_type,\n",
    "        'star_rating': star_rating\n",
    "    })\n",
    "\n",
    "    # Ensure the data directory exists\n",
    "    os.makedirs('data', exist_ok=True)\n",
    "\n",
    "    # Save the data to a CSV file in the 'data' folder\n",
    "    csv_file_path = os.path.join('data', 'reviews.csv')\n",
    "    with open(csv_file_path, 'w', newline='', encoding='utf-8') as csvfile:\n",
    "        fieldnames = ['title', 'name', 'date', 'review_body', 'rating', 'type_of_traveller', 'seat_type', 'star_rating']\n",
    "        writer = csv.DictWriter(csvfile, fieldnames=fieldnames)\n",
    "\n",
    "        writer.writeheader()\n",
    "        for review in reviews:\n",
    "            writer.writerow(review)\n",
    "\n",
    "    print(f'Data successfully written to {csv_file_path}')"
   ]
  },
  {
   "cell_type": "code",
   "execution_count": null,
   "metadata": {},
   "outputs": [],
   "source": []
  }
 ],
 "metadata": {
  "kernelspec": {
   "display_name": "venv",
   "language": "python",
   "name": "python3"
  },
  "language_info": {
   "codemirror_mode": {
    "name": "ipython",
    "version": 3
   },
   "file_extension": ".py",
   "mimetype": "text/x-python",
   "name": "python",
   "nbconvert_exporter": "python",
   "pygments_lexer": "ipython3",
   "version": "3.12.3"
  }
 },
 "nbformat": 4,
 "nbformat_minor": 2
}
